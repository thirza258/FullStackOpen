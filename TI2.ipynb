{
 "cells": [
  {
   "cell_type": "code",
   "execution_count": 2,
   "metadata": {},
   "outputs": [],
   "source": [
    "import random\n",
    "\n"
   ]
  },
  {
   "cell_type": "code",
   "execution_count": 1,
   "metadata": {},
   "outputs": [
    {
     "name": "stdout",
     "output_type": "stream",
     "text": [
      "Initiating: 7\n",
      "Planning: 76\n",
      "Executing: 254\n",
      "Monitoring: 18\n",
      "Closing: 10\n",
      "Total Days: 365\n"
     ]
    }
   ],
   "source": [
    "initiating = int(365 * 0.02)\n",
    "planning = int(365 * 0.21)\n",
    "executing = int(365 * 0.69)\n",
    "monitoring = int(365 * 0.05)\n",
    "closing = int(365 * 0.03)\n",
    "\n",
    "total_days = initiating + planning + executing + monitoring + closing\n",
    "\n",
    "# Mengecek jika total hari sama dengan 365\n",
    "if total_days != 365:\n",
    "    adjustment = 365 - total_days\n",
    "    executing += adjustment  # Menyesuaikan executing dengan selisih\n",
    "    total_days = 365\n",
    "\n",
    "print(\"Initiating:\", initiating)\n",
    "print(\"Planning:\", planning)\n",
    "print(\"Executing:\", executing)\n",
    "print(\"Monitoring:\", monitoring)\n",
    "print(\"Closing:\", closing)\n",
    "print(\"Total Days:\", total_days)\n"
   ]
  },
  {
   "cell_type": "code",
   "execution_count": null,
   "metadata": {},
   "outputs": [],
   "source": [
    "# Inisialisasi dictionary\n",
    "initiating = {}\n",
    "\n",
    "# Generate random values for keys in range(5, 9)\n",
    "for key in range(5, 9):\n",
    "    initiating[key] = random.randint(1, 5)\n",
    "\n",
    "# Hitung total nilai dalam dictionary\n",
    "total = sum(initiating.values())\n",
    "\n",
    "# Sesuaikan salah satu nilai agar totalnya menjadi 7\n",
    "initiating[random.choice(list(initiating.keys()))] += 7 - total\n",
    "\n",
    "print(\"Dictionary setelah loop:\")\n",
    "print(initiating)"
   ]
  }
 ],
 "metadata": {
  "kernelspec": {
   "display_name": "base",
   "language": "python",
   "name": "python3"
  },
  "language_info": {
   "codemirror_mode": {
    "name": "ipython",
    "version": 3
   },
   "file_extension": ".py",
   "mimetype": "text/x-python",
   "name": "python",
   "nbconvert_exporter": "python",
   "pygments_lexer": "ipython3",
   "version": "3.11.3"
  }
 },
 "nbformat": 4,
 "nbformat_minor": 2
}
